{
 "cells": [
  {
   "cell_type": "markdown",
   "metadata": {},
   "source": [
    "<a name=\"education\"></a> \n",
    "# Education\n",
    "\n",
    "Doctor of Philosophy (**Ph.D**) in _physics_ (Carnegie Mellon University, 2016)<br/>\n",
    "Master of Science (**M.S.**) in _physics_ (Carnegie Mellon University, 2010)<br/>\n",
    "Master of Science (**M.Sc**) in _physics_ (Indian Institute of Technology Madras, 2009)<br/>\n",
    "Bachelor of Science (**B.Sc**) in _physics_ ,  _mathematics_ , _electronics_ (Bangalore University, 2007)<br/>"
   ]
  },
  {
   "cell_type": "markdown",
   "metadata": {},
   "source": [
    "<a name=\"workex\"></a>\n",
    "# Experience\n",
    "\n",
    "**Assistant Scientist**, Argonne National Laboratory<br/>\n",
    "Synchrotron Radiation Studies of Materials group, **_Oct 2019 - present_**\n",
    "    \n",
    "**Post-doctoral researcher**, Argonne National Laboratory<br/>\n",
    "Coherent diffraction imaging of materials structure, **_Jan 2017 - Sept 2019_**\n",
    "    \n",
    "**Post-doctoral researcher**, National Energy Technology Laboratory<br/>\n",
    "Materials discovery with machine learning, **_May 2016 - Sept 2016_**\n",
    "    \n",
    "**Graduate research assistant**, Carnegie Mellon University<br/>\n",
    "Department of Physics, **_2012 - May 2016_**\n",
    "    \n",
    "**Graduate teaching assistant**, Carnegie Mellon University<br/>\n",
    "Department of Physics, **_2009 - 2012_**\n",
    "    \n",
    "**Intern**, National University of Singapore<br/>\n",
    "Department of Physics, **_May 2008_**"
   ]
  },
  {
   "cell_type": "markdown",
   "metadata": {},
   "source": [
    "<a name=\"research\"></a>\n",
    "# Research interests\n",
    "\n",
    "**X-ray sciences (imaging and characterization):**<br/>\n",
    "    Coherent diffraction imaging (CDI) of tensor fields<br/>\n",
    "    Coherent dark-field x-ray microscopy (DFXM)<br/>\n",
    "    High-energy x-ray diffraction microscopy (HEDM)<br/>\n",
    "    Multiscale characterization with x-ray probes<br/>\n",
    "    X-ray photon correlation spectroscopy (XPCS)\n",
    "    \n",
    "**Condensed matter physics:**<br/>\n",
    "   Mesoscale/nanoscale structure and lattice strain<br/>\n",
    "   Interfacial dynamics in polycrystals\n",
    "\n",
    "**Computational methods in physics:**<br/>     \n",
    "   Inverse problems in imaging, phase retrieval<br/>\n",
    "   Signal processing and optimization<br/>\n",
    "   Data science, machine learning, reinforcement learning -based experimental control<br/>\n",
    "   High-performance computing and scientific software development"
   ]
  },
  {
   "cell_type": "markdown",
   "metadata": {},
   "source": [
    "\\cite{Bertaux2021,Kandel2021,Wilkin2021,Cao2020,Maddali2020a,Maddali2020b,Maddali2020,Li2020,Maddali2019,Calvo-Almazan2019,Kandel2019,Krishnamurthy2019,Shen2019,Ulvestad2019,Calvo-Almazan2019a,Maddali2018,Hruszkewycz2018,Highland2017,Maddali2016,Renversade2016}"
   ]
  },
  {
   "cell_type": "markdown",
   "metadata": {},
   "source": [
    "<a name=\"presentations\"></a>\n",
    "# Presentations\n",
    "\n",
    "## Invited\n",
    "\n",
    "1) Advanced Photon Source Scientific Computation Seminar, Argonne National Laboratory, Lemont, IL (March 2022)<br/>\n",
    "2) _New materials characterization capabilities with high-energy coherent X-rays_, Argonne Materials Science Division Colloquium, Lemont, IL (October 2021)<br/>\n",
    "3) Workshop on _Advanced probes and data analytics for enabling single-pulse imaging under dynamic conditions_, Santa Fe, NM (August 2019)<br/>\n",
    "4) The Minerals, Metals and Materials Society (TMS), San Antonio, TX (March 2019)<br/>\n",
    "5) Department of physics, Carnegie Mellon University, Pittsburgh, PA (May 2018)<br/>\n",
    "\n",
    "## Select contributed\n",
    "1) Gordon X-ray Science Seminar, Easton, MA (July-August 2019: seminar & poster; July-August 2017: discussion leader)<br/>\n",
    "2) Coherence: International workshop on phase retrieval and coherent scattering, Port Jefferson, NY (June 2018)<br/>\n",
    "3) Materials Research Society, Phoenix, AZ (April 2018)<br/>\n",
    "4) The Minerals, Metals and Materials Society (TMS), Orlando, FL (March 2015: Poster)<br/>\n",
    "5) Materials Science and Technology (MS&T), Pittsburgh, PA (October 2014: seminar; October 2012: poster)"
   ]
  },
  {
   "cell_type": "markdown",
   "metadata": {},
   "source": [
    "<a name=\"achievements\"></a>\n",
    "# Awards and honors\n",
    "\n",
    "Oak Ridge Institute for Science and Education (ORISE) post-doctoral fellowship (2016)<br/>\n",
    "The Indian Institute of Technology Madras Merit Scholarship (2007-2009)<br/>\n",
    "Bangalore University overall rank 5 (2007)"
   ]
  },
  {
   "cell_type": "markdown",
   "metadata": {},
   "source": [
    "<a name=\"grants\"></a>\n",
    "# Research grants\n",
    "\n",
    "## ANL LDRD 2021-0012: _**Coherence-enhanced dark-field imaging for structural heterogeneity in materials**_ \n",
    "**Role**: Principal investigator<br/>\n",
    "**Funding**: Argonne LDRD (Laboratory Directed Research and Development) program<br/>\n",
    "**Period**: 1<sup>st</sup> Oct 2020 &mdash; 30<sup>th</sup> Sept 2022 (2 years) <br/>\n",
    "**Amount**: $630,000\n",
    "\n",
    "## ANL LDRD 2019-0042: _**Finding Critical Processes of Deformation in Structural Materials with Artificial Intelligence**_ \n",
    "**Role**: Principal investigator<br/>\n",
    "**Funding**: Argonne LDRD (Laboratory Directed Research and Development) program<br/>\n",
    "**Period**: 1<sup>st</sup> Oct 2020 &mdash; 30<sup>th</sup> Sept 2021 (1 year) <br/>\n",
    "**Amount**: $100,000"
   ]
  },
  {
   "cell_type": "markdown",
   "metadata": {},
   "source": [
    "<a name=\"professional\"></a>\n",
    "# Professional activity\n",
    "\n",
    "## Society membership\n",
    "Americal Physical Society (APS), Materials Research Society (MRS), The Minerals, Metals and Materials Society (TMS)\n",
    "\n",
    "## Editorial\n",
    "**Aug 2021 &mdash; present**: Guest editor for _MDPI: Crystals_ special issue: [Synchrotron studies of materials](https://www.mdpi.com/journal/crystals/special_issues/Synchrotron_Studies). \n",
    "\n",
    "## Peer review <a href=\"https://publons.com/researcher/3664194/siddharth-maddali/peer-review/\"><i class=\"ai ai-publons-square ai\"></i></a>\n",
    "_US Department of Energy: [Basic Energy Sciences (BES) Program](https://www.energy.gov/science/bes/basic-energy-sciences)_ , _Philosophical Magazine_ , _Computational Materials Science_ , _New Journal of Physics_ , _Optics Letters_ , _Physical Review X_ , _Crystal Research and Technology_ , _Journal of Applied Physics_ , _Physical Review Letters_ , _Physical Review B_ , _IUCr Journal of Synchrotron Radiation_ , _Optics Express_ , _Journal of Applied Crystallography_ , _Integrating Materials and Manufacturing Innovation_\n",
    "\n",
    "## Organization\n",
    "1) Workshop (Session chair): _Dark field x-ray microscopy for mesoscale phenomena in ordered materials at APS-U_ : APS/CNM Users Meeting, Lemont, IL, USA (May 2022)<br/>\n",
    "2) Workshop: _Advances in Phase Retrieval Methods for High-Resolution X-ray Imaging_ , APS/CNM Users Meeting, Argonne National Laboratory, Lemont, IL, USA (August 2020)<br/>\n",
    "3) Workshop: _Advanced Probes and Data Analytics for Enabling Single Pulse Imaging Under Dynamic Conditions_ , Santa Fe, NM, USA (August 2019)"
   ]
  },
  {
   "cell_type": "markdown",
   "metadata": {},
   "source": [
    "# Technical reports\n",
    "\n",
    "[1] R. Pokharel, C. Bolme, J. Bohon, A. Mandal, D. Pagan, F. Hofmann, <strong>S. Maddali</strong>, A. Rack, _Advanced probes and data analytics for enabling 3-D imaging under dynamic conditions_ ([**LAUR-19-31832**](https://www.lanl.gov/science-innovation/science-facilities/dmmsc/_assets/docs/workshops/Advanced-Imaging-Report.pdf)), **Los Alamos National Laboratory**, 2019.\n",
    "\n",
    "[2] N. Krishnamurthy, <strong>S. Maddali</strong>, A. Verma, L. Bruckman, J. Carter, R. French, V. Romanov, J. Hawk, _Data analytics for alloy qualification_ ([**NETL-PUB-21550**](https://www.osti.gov/biblio/1456238)), **National Energy technology Laboratory**, 2017. "
   ]
  },
  {
   "cell_type": "markdown",
   "metadata": {},
   "source": [
    "# Conference presentations\n",
    "\n",
    "[1] Krishnamurthy, N., Maddali, S., Romanov, V. & Hawk, J., _Predictive analysis of the influence of the chemical composition and pre-processing regimen on structural properties of steel alloys using machine learning techniques_. **Bulletin of the American Physical Society**, APS, 2017, 62 ([abstract](https://meetings.aps.org/Meeting/MAR17/Session/V12.6))\n",
    "\n",
    "[2] Krishnamurthy, N., Maddali, S., Romanov, V. & Hawk, J., _Segmentation of 9Cr Steel Samples based on Composition and Mechanical Property_. **Bulletin of the American Physical Society**, APS, 2017, 62 ([abstract](http://meetings.aps.org/link/BAPS.2017.MAR.G1.156))"
   ]
  },
  {
   "cell_type": "markdown",
   "metadata": {},
   "source": [
    "# Reeferences\n",
    "<!--\n",
    "Stephan\n",
    "Bob\n",
    "Tony\n",
    "Youssef\n",
    "Shlomo\n",
    "Marc\n",
    "Saugat\n",
    "Matt\n",
    "-->\n",
    "<b>Dr. Stephan O. Hruszkewycz</b><br/>\n",
    "Synchrotron Studies of Materials<br/>\n",
    "Materials Science Division<br/>\n",
    "Argonne National Laboratory<br/>\n",
    "Chicago, IL (USA)<br/>\n",
    "<a href=\"https://www.anl.gov/profile/stephan-o-hruszkewycz\"><img style=\"align:left\" src=\"{{ site.url }}/images/Web.svg\"></a>  <a href=\"mailto:shrus@anl.gov\"><img style=\"align:left\" src=\"{{ site.url }}/images/Mail.svg\"></a>\n",
    "\n",
    "<b>Dr. Robert M. Suter</b><br/>\n",
    "Department of physics<br/>\n",
    "Carnegie Mellon University<br/>\n",
    "Pittsburgh, PA (USA)<br/>\n",
    "<a href=\"https://www.cmu.edu/physics/people/faculty/suter.html\"><img style=\"align:left\" src=\"{{ site.url }}/images/Web.svg\"></a>  <a href=\"mailto:suter@andrew.cmu.edu\"><img style=\"align:left\" src=\"{{ site.url }}/images/Mail.svg\"></a>\n",
    "\n",
    "<b>Dr. Anthony D. Rollett</b><br/>\n",
    "Department of Materials Science and Engineering<br/>\n",
    "Carnegie Mellon University<br/>\n",
    "Pittsburgh, PA (USA)<br/>\n",
    "<a href=\"https://www.cmu.edu/engineering/materials/people/faculty/bios/rollett-up-7jan21.html\"><img style=\"align:left\" src=\"{{ site.url }}/images/Web.svg\"></a>  <a href=\"mailto:rollett@andrew.cmu.edu\"><img style=\"align:left\" src=\"{{ site.url }}/images/Mail.svg\"></a>\n",
    "\n",
    "<b>Dr. Marc Allain</b><br/>\n",
    "Institut Fresnel<br/>\n",
    "Aix-Marseille University<br/>\n",
    "Grenoble, France<br/>\n",
    "<a href=\"mailto:marc.allain@fresnel.fr\"><img style=\"align:left\" src=\"{{ site.url }}/images/Mail.svg\"></a>\n"
   ]
  },
  {
   "cell_type": "markdown",
   "metadata": {},
   "source": [
    "# References\n",
    "\n",
    "[<a id=\"cit-Bertaux2021\" href=\"#call-Bertaux2021\">1</a>] N. Bertaux, M. Allain, J. Weizeorick, J.-. Park, P. Kenesei, S.D. Shastri, J. Almer, M.J. Highland, S. Maddali and S.O. Hruszkewycz, <em>Sub-pixel high-resolution imaging of high-energy x-rays inspired by sub-wavelength optical imaging</em>, **<em>Opt. Express</em>**, vol. 29, number 22, pp. 35003--35021, Oct 2021.  [online](http://www.osapublishing.org/oe/abstract.cfm?URI=oe-29-22-35003)\n",
    "\n",
    "[<a id=\"cit-Kandel2021\" href=\"#call-Kandel2021\">2</a>] S. Kandel, S. Maddali, Y.S.G. Nashed, S.O. Hruszkewycz, C. Jacobsen and M. Allain, <em>Efficient ptychographic phase retrieval via a matrix-free Levenberg-Marquardt algorithm</em>, **<em>Opt. Express</em>**, vol. 29, number 15, pp. 23019--23055, Jul 2021.  [online](http://www.opticsexpress.org/abstract.cfm?URI=oe-29-15-23019)\n",
    "\n",
    "[<a id=\"cit-Wilkin2021\" href=\"#call-Wilkin2021\">3</a>] M.J. Wilkin, S. Maddali, S.O. Hruszkewycz, A. Pateras, R.L. Sandberg, R. Harder, W. Cha, R.M. Suter and A.D. Rollett, <em>Experimental demonstration of coupled multi-peak Bragg coherent diffraction imaging with genetic algorithms</em>, **<em>Phys. Rev. B</em>**, vol. 103, number , pp. 214103, Jun 2021.  [online](https://link.aps.org/doi/10.1103/PhysRevB.103.214103)\n",
    "\n",
    "[<a id=\"cit-Cao2020\" href=\"#call-Cao2020\">4</a>] Y. Cao, D. Sheyfer, Z. Jiang, S. Maddali, H. You, B.X. Wang, Z.G. Ye, E.M. Dufresne, H. Zhou, G.B. Stephenson and S.O. Hruszkewycz, <em>The Effect of Intensity Fluctuations on Sequential X-ray Photon Correlation Spectroscopy at the X-ray Free Electron Laser Facilities</em>, **<em>Crystals</em>**, vol. 10, number 12, pp. 1109, December 2020.  [online](https://doi.org/10.3390/cryst10121109)\n",
    "\n",
    "[<a id=\"cit-Maddali2020a\" href=\"#call-Maddali2020a\">5</a>] S. Maddali, M. Allain, P. Li, V. Chamard and S.O. Hruszkewycz, <em>Detector Tilt Considerations in Bragg Coherent Diffraction Imaging: A Simulation Study</em>, **<em>Crystals</em>**, vol. 10, number 12, pp. 1150, December 2020.  [online](https://doi.org/10.3390/cryst10121150)\n",
    "\n",
    "[<a id=\"cit-Maddali2020b\" href=\"#call-Maddali2020b\">6</a>] S. Maddali, J. Park, H. Sharma, S. Shastri, P. Kenesei, J. Almer, R. Harder, M.J. Highland, Y. Nashed and S.O. Hruszkewycz, <em>High-Energy Coherent X-Ray Diffraction Microscopy of Polycrystal Grains: Steps Toward a Multiscale Approach</em>, **<em>Phys. Rev. Applied</em>**, vol. 14, number , pp. 024085, Aug 2020.  [online](https://link.aps.org/doi/10.1103/PhysRevApplied.14.024085)\n",
    "\n",
    "[<a id=\"cit-Maddali2020\" href=\"#call-Maddali2020\">7</a>] S. Maddali, P. Li, A. Pateras, D. Timbie, N. Delegan, A.L. Crook, H. Lee, I. Calvo-Almazan, D. Sheyfer, W. Cha, F.J. Heremans, D.D. Awschalom, V. Chamard, M. Allain and S.O. Hruszkewycz, <em>General approaches for shear-correcting coordinate transformations in Bragg coherent diffraction imaging. Part I</em>, **<em>Journal of Applied Crystallography</em>**, vol. 53, number 2, pp. , Apr 2020.  [online](https://doi.org/10.1107/S1600576720001363)\n",
    "\n",
    "[<a id=\"cit-Li2020\" href=\"#call-Li2020\">8</a>] P. Li, S. Maddali, A. Pateras, I. Calvo-Almazan, S. Hruszkewycz, W. Cha, V. Chamard and M. Allain, <em>General approaches for shear-correcting coordinate transformations in Bragg coherent diffraction imaging. Part II</em>, **<em>Journal of Applied Crystallography</em>**, vol. 53, number 2, pp. , Apr 2020.  [online](https://doi.org/10.1107/S1600576720001375)\n",
    "\n",
    "[<a id=\"cit-Maddali2019\" href=\"#call-Maddali2019\">9</a>] S. Maddali, M. Allain, W. Cha, R. Harder, J. Park, P. Kenesei, J. Almer, Y. Nashed and S.O. Hruszkewycz, <em>Phase retrieval for Bragg coherent diffraction imaging at high x-ray energies</em>, **<em>Phys. Rev. A</em>**, vol. 99, number , pp. 053838, May 2019.  [online](https://link.aps.org/doi/10.1103/PhysRevA.99.053838)\n",
    "\n",
    "[<a id=\"cit-Calvo-Almazan2019\" href=\"#call-Calvo-Almazan2019\">10</a>] I. Calvo-Almazan, M. Allain, S. Maddali, V. Chamard and S.O. Hruszkewycz, <em>Impact and mitigation of angular uncertainties in Bragg coherent x-ray diffraction imaging</em>, **<em>Scientific Reports</em>**, vol. 9, number 1, pp. 6386,  2019.  [online](https://doi.org/10.1038/s41598-019-42797-4)\n",
    "\n",
    "[<a id=\"cit-Kandel2019\" href=\"#call-Kandel2019\">11</a>] S. Kandel, S. Maddali, M. Allain, S.O. Hruszkewycz, C. Jacobsen and Y. Nashed, <em>Using automatic differentiation as a general framework for ptychographic reconstruction</em>, **<em>Opt. Express</em>**, vol. 27, number 13, pp. 18653--18672, Jun 2019.  [online](http://www.opticsexpress.org/abstract.cfm?URI=oe-27-13-18653)\n",
    "\n",
    "[<a id=\"cit-Krishnamurthy2019\" href=\"#call-Krishnamurthy2019\">12</a>] N. Krishnamurthy, S. Maddali, J.A. Hawk and V.N. Romanov, <em>9Cr steel visualization and predictive modeling</em>, **<em>Computational Materials Science</em>**, vol. , number , pp. ,  2019.  [online](http://www.sciencedirect.com/science/article/pii/S0927025619301466)\n",
    "\n",
    "[<a id=\"cit-Shen2019\" href=\"#call-Shen2019\">13</a>] Y. Shen, S. Maddali, D. Menasche, A. Bhattacharya, G.S. Rohrer and R.M. Suter, <em>Importance of outliers: A three-dimensional study of coarsening in $\\alpha$-phase iron</em>, **<em>Phys. Rev. Materials</em>**, vol. 3, number , pp. 063611, Jun 2019.  [online](https://link.aps.org/doi/10.1103/PhysRevMaterials.3.063611)\n",
    "\n",
    "[<a id=\"cit-Ulvestad2019\" href=\"#call-Ulvestad2019\">14</a>] A. Ulvestad, S.O. Hruszkewycz, M.V. Holt, M.O. Hill, I. Calvo-Almazan, S. Maddali, X. Huang, H. Yan, E. Nazaretski, Y.S. Chu, L.J. Lauhon, N. Rodkey, M.I. Bertoni and M.E. Stuckelberger, <em>Multimodal X-ray imaging of grain-level properties and performance in a polycrystalline solar cell</em>, **<em>Journal of Synchrotron Radiation</em>**, vol. 26, number 4, pp. , Jul 2019.  [online](https://doi.org/10.1107/S1600577519003606)\n",
    "\n",
    "[<a id=\"cit-Calvo-Almazan2019a\" href=\"#call-Calvo-Almazan2019a\">15</a>] I. Calvo-Almazan, A.P. Ulvestad, E. Colegrove, T. Ablekim, M.V. Holt, M.O. Hill, S. Maddali, L.J. Lauhon, M.I. Bertoni, X. Huang, H. Yan, E. Nazaretski, Y.S. Chu, S.O. Hruszkewycz and M.E. Stuckelberger, <em>Strain Mapping of CdTe Grains in Photovoltaic Devices</em>, **<em>IEEE Journal of Photovoltaics</em>**, vol. , number , pp. 1-10,  2019.  [online](https://ieeexplore.ieee.org/document/8862942)\n",
    "\n",
    "[<a id=\"cit-Maddali2018\" href=\"#call-Maddali2018\">16</a>] S. Maddali, I. Calvo-Almazan, J. Almer, P. Kenesei, J. Park, R. Harder, Y. Nashed and S.O. Hruszkewycz, <em>Sparse recovery of undersampled intensity patterns for coherent diffraction imaging at high X-ray energies</em>, **<em>Scientific Reports</em>**, vol. 8, number 1, pp. 4959,  2018.  [online](https://www.nature.com/articles/s41598-018-23040-y)\n",
    "\n",
    "[<a id=\"cit-Hruszkewycz2018\" href=\"#call-Hruszkewycz2018\">17</a>] S.O. Hruszkewycz, S. Maddali, C.P. Anderson, W. Cha, K.C. Miao, M.J. Highland, A. Ulvestad, D.D. Awschalom and F.J. Heremans, <em>Strain annealing of SiC nanoparticles revealed through Bragg coherent diffraction imaging for quantum technologies</em>, **<em>Phys. Rev. Materials</em>**, vol. 2, number , pp. 086001, Aug 2018.  [online](https://link.aps.org/doi/10.1103/PhysRevMaterials.2.086001)\n",
    "\n",
    "[<a id=\"cit-Highland2017\" href=\"#call-Highland2017\">18</a>] M.J. Highland, S.O. Hruszkewycz, D.D. Fong, C. Thompson, P.H. Fuoss, I. Calvo-Almazan, S. Maddali, A. Ulvestad, E. Nazaretski, X. Huang, H. Yan, Y.S. Chu, H. Zhou, P.M. Baldo and J.A. Eastman, <em>In-situ synchrotron x-ray studies of the microstructure and stability of In2O3 epitaxial films</em>, **<em>Applied Physics Letters</em>**, vol. 111, number 16, pp. 161602,  2017.  [online](http://dx.doi.org/10.1063/1.4997773)\n",
    "\n",
    "[<a id=\"cit-Maddali2016\" href=\"#call-Maddali2016\">19</a>] S. Maddali, S. Ta'asan and R.M. Suter, <em>Topology-faithful nonparametric estimation and tracking of bulk interface networks</em>, **<em>Computational Materials Science</em>**, vol. 125, number , pp. 382--340,  2016.  [online](https://www.sciencedirect.com/science/article/pii/S0927025616303913)\n",
    "\n",
    "[<a id=\"cit-Renversade2016\" href=\"#call-Renversade2016\">20</a>] L. Renversade, R. Quey, W. Ludwig, D. Menasche, S. Maddali, R.M. Suter and A. Borbely, <em>Comparison between diffraction contrast tomography and high-energy diffraction microscopy on a slightly deformed aluminium alloy</em>, **<em>IUCrJ</em>**, vol. 3, number 1, pp. 32--42,  2016.  [online](https://journals.iucr.org/m/issues/2016/01/00/ti5006/)\n",
    "\n"
   ]
  }
 ],
 "metadata": {
  "kernelspec": {
   "display_name": "Python 3",
   "language": "python",
   "name": "python3"
  },
  "language_info": {
   "codemirror_mode": {
    "name": "ipython",
    "version": 3
   },
   "file_extension": ".py",
   "mimetype": "text/x-python",
   "name": "python",
   "nbconvert_exporter": "python",
   "pygments_lexer": "ipython3",
   "version": "3.8.10"
  },
  "latex_envs": {
   "LaTeX_envs_menu_present": true,
   "autoclose": false,
   "autocomplete": false,
   "bibliofile": "publication.bib",
   "cite_by": "number",
   "current_citInitial": 1,
   "eqLabelWithNumbers": true,
   "eqNumInitial": 1,
   "hotkeys": {
    "equation": "Ctrl-E",
    "itemize": "Ctrl-I"
   },
   "labels_anchors": false,
   "latex_user_defs": false,
   "report_style_numbering": false,
   "user_envs_cfg": false
  }
 },
 "nbformat": 4,
 "nbformat_minor": 4
}
