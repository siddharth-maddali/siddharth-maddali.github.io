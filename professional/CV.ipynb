{
 "cells": [
  {
   "cell_type": "markdown",
   "metadata": {},
   "source": [
    "<a name=\"education\"></a> \n",
    "# Education\n",
    "\n",
    "Doctor of Philosophy (**Ph.D**) in _physics_ (Carnegie Mellon University, 2016)<br/>\n",
    "Master of Science (**M.S.**) in _physics_ (Carnegie Mellon University, 2010)<br/>\n",
    "Master of Science (**M.Sc**) in _physics_ (Indian Institute of Technology Madras, 2009)<br/>\n",
    "Bachelor of Science (**B.Sc**) in _physics_ ,  _mathematics_ (Bangalore University, 2007)<br/>"
   ]
  },
  {
   "cell_type": "markdown",
   "metadata": {},
   "source": [
    "<a name=\"workex\"></a>\n",
    "# Experience\n",
    "\n",
    "**Assistant Scientist**, Argonne National Laboratory<br/>\n",
    "Synchrotron Radiation Studies of Materials group, **_Oct 2019 - present_**\n",
    "    \n",
    "**Post-doctoral researcher**, Argonne National Laboratory<br/>\n",
    "Coherent diffraction imaging of materials structure, **_Jan 2017 - Sept 2019_**\n",
    "    \n",
    "**Post-doctoral researcher**, National Energy Technology Laboratory<br/>\n",
    "Materials discovery with machine learning, **_May 2016 - Sept 2016_**\n",
    "    \n",
    "**Graduate research assistant**, Carnegie Mellon University<br/>\n",
    "Department of Physics, **_2012 - May 2016_**\n",
    "    \n",
    "**Graduate teaching assistant**, Carnegie Mellon University<br/>\n",
    "Department of Physics, **_2009 - 2012_**\n",
    "    \n",
    "**Intern**, National University of Singapore<br/>\n",
    "Department of Physics, **_May 2008_**"
   ]
  },
  {
   "cell_type": "markdown",
   "metadata": {},
   "source": [
    "<a name=\"research\"></a>\n",
    "# Research interests\n",
    "\n",
    "**X-ray sciences, direct and diffraction-based imaging:**<br/>\n",
    "    Coherent diffraction imaging of tensor fields<br/>\n",
    "    High-energy diffraction microscopy<br/>\n",
    "    Multiscale characterization with x-rays\n",
    "    \n",
    "**Condensed matter physics:**<br/>\n",
    "   Mesoscale and nanoscale structure and lattice strain<br/>\n",
    "   Interfacial dynamics in polycrystals\n",
    "\n",
    "**Computational methods in physics:**<br/>\n",
    "   Inverse problems<br/>\n",
    "   Signal processing and optimization<br/>\n",
    "   Data science, machine learning, reinforcement learning -based experimental control<br/>\n",
    "   High-performance computing and scientific software development"
   ]
  },
  {
   "cell_type": "markdown",
   "metadata": {},
   "source": [
   ]
  },
  {
   "cell_type": "markdown",
   "metadata": {},
   "source": [
    "<a name=\"presentations\"></a>\n",
    "# Presentations\n",
    "\n",
    "## Invited\n",
    "\n",
    "1) Society for Photo-Optical Instrumentation Engineers (SPIE) Conference on _Ultrafast Imaging and Tracking Instrumentation, Methods, and Applications_, San Diego, CA (August 2020)<br/>\n",
    "2) Workshop on _Advanced probes and data analytics for enabling single-pulse imaging under dynamic conditions_, Santa Fe, NM (August 2019)<br/>\n",
    "3) The Minerals, Metals and Materials Society (TMS), San Antonio, TX (March 2019)<br/>\n",
    "4) Department of physics, Carnegie Mellon University, Pittsburgh, PA (May 2018)<br/>\n",
    "\n",
    "## Select contributed\n",
    "1) Gordon X-ray Science Seminar, Easton, MA (July-August 2019: seminar & poster; July-August 2017: discussion leader)<br/>\n",
    "2) Coherence: International workshop on phase retrieval and coherent scattering, Port Jefferson, NY (June 2018)<br/>\n",
    "3) Materials Research Society, Phoenix, AZ (April 2018)<br/>\n",
    "4) The Minerals, Metals and Materials Society (TMS), Orlando, FL (March 2015: Poster)<br/>\n",
    "5) Materials Science and Technology (MS&T), Pittsburgh, PA (October 2014: seminar; October 2012: poster)"
   ]
  },
  {
   "cell_type": "markdown",
   "metadata": {},
   "source": [
    "<a name=\"achievements\"></a>\n",
    "# Awards and honors\n",
    "\n",
    "Oak Ridge Institute for Science and Education (ORISE) post-doctoral fellowship (2016)<br/>\n",
    "The Indian Institute of Technology Madras Merit Scholarship (2007-2009)<br/>\n",
    "Bangalore University rank 5 (2007)"
   ]
  },
  {
   "cell_type": "markdown",
   "metadata": {},
   "source": [
    "<a name=\"professional\"></a>\n",
    "# Professional activity\n",
    "\n",
    "## Society membership\n",
    "Americal Physical Society (APS), Materials Research Society (MRS), The Minerals, Metals and Materials Society (TMS)\n",
    "\n",
    "## Peer review <a href=\"https://publons.com/researcher/3664194/siddharth-maddali/peer-review/\"><i class=\"ai ai-publons-square ai\"></i></a>\n",
    "_US Department of Energy: Office of Science - Basic Energy Sciences (BES)_ <br/>\n",
    "_Philosophical Magazine_ <br/>\n",
    "_Computational Materials Science_ <br/>\n",
    "_New Journal of Physics_ <br/>\n",
    "_Optics Letters_ <br/>\n",
    "_Physical Review X_ <br/>\n",
    "_Crystal Research and Technology_ <br/>\n",
    "_Journal of Applied Physics_\n",
    "\n",
    "## Organization\n",
    "1) Workshop: _Advances in Phase Retrieval Methodsfor High-Resolution X-ray Imaging_ , APS/CNM Users Meeting, Argonne National Laboratory, Lemont, IL (August 2020)\n",
    "\n",
    "2) Workshop: _Advanced Probes and Data Analytics for Enabling Single Pulse Imaging Under Dynamic Conditions_ , Santa Fe, NM (August 2019)"
   ]
  },
  {
   "cell_type": "markdown",
   "metadata": {},
   "source": [
    "# Publications <a href=\"https://scholar.google.com/citations?user=hsYqvQIAAAAJ&hl=en&oi=ao\"><i class=\"ai ai-google-scholar-square ai\"></i></a>\n",
    "\n",
    "[<a id=\"cit-Maddali2020\" href=\"#call-Maddali2020\">1</a>] Maddali S., Li P., Pateras A., Timbie D., Delegan N., Crook A. L., Lee H., Calvo-Almazan I., Sheyfer D., Cha W., Heremans F. J., Awschalom D. D., Chamard V., Allain M. and Hruszkewycz S. O., <em>General approaches for shear-correcting coordinate transformations in Bragg coherent diffraction imaging. Part I</em>, **<em>Journal of Applied Crystallography</em>**, vol. 53, number 2, pp. , Apr 2020.  [online](https://doi.org/10.1107/S1600576720001363)\n",
    "\n",
    "[<a id=\"cit-Li2020\" href=\"#call-Li2020\">2</a>] Li P., Maddali S., Pateras A., Calvo-Almazan I., Hruszkewycz S.O., Cha W., Chamard V. and Allain M., <em>General approaches for shear-correcting coordinate transformations in Bragg coherent diffraction imaging. Part II</em>, **<em>Journal of Applied Crystallography</em>**, vol. 53, number 2, pp. , Apr 2020.  [online](https://doi.org/10.1107/S1600576720001375)\n",
    "\n",
    "[<a id=\"cit-Maddali2019\" href=\"#call-Maddali2019\">3</a>] Maddali S., Allain M., Cha W., Harder R., Park J.-S., Kenesei P., Almer J., Nashed Y. and Hruszkewycz S. O., <em>Phase retrieval for Bragg coherent diffraction imaging at high x-ray energies</em>, **<em>Phys. Rev. A</em>**, vol. 99, number , pp. 053838, May 2019.  [online](https://link.aps.org/doi/10.1103/PhysRevA.99.053838)\n",
    "\n",
    "[<a id=\"cit-Calvo-Almazan2019\" href=\"#call-Calvo-Almazan2019\">4</a>] Calvo-Almazan I., Allain M., Maddali S., Chamard V. and Hruszkewycz S. O., <em>Impact and mitigation of angular uncertainties in Bragg coherent x-ray diffraction imaging</em>, **<em>Scientific Reports</em>**, vol. 9, number 1, pp. 6386,  2019.  [online](https://doi.org/10.1038/s41598-019-42797-4)\n",
    "\n",
    "[<a id=\"cit-Kandel2019\" href=\"#call-Kandel2019\">5</a>] Kandel Saugat, Maddali S., Allain Marc, O. Stephan, Jacobsen Chris and S. Youssef, <em>Using automatic differentiation as a general framework for ptychographic reconstruction</em>, **<em>Opt. Express</em>**, vol. 27, number 13, pp. 18653--18672, Jun 2019.  [online](http://www.opticsexpress.org/abstract.cfm?URI=oe-27-13-18653)\n",
    "\n",
    "[<a id=\"cit-Krishnamurthy2019\" href=\"#call-Krishnamurthy2019\">6</a>] Krishnamurthy N., Maddali S., Hawk J. A. and Romanov V. N., <em>9Cr steel visualization and predictive modeling</em>, **<em>Computational Materials Science</em>**, vol. , number , pp. ,  2019.  [online](http://www.sciencedirect.com/science/article/pii/S0927025619301466)\n",
    "\n",
    "[<a id=\"cit-Shen2019\" href=\"#call-Shen2019\">7</a>] Shen Yu-Feng, Maddali S., Menasche D., Bhattacharya A., Rohrer G. S. and Suter R. M., <em>Importance of outliers: A three-dimensional study of coarsening in $\\alpha$-phase iron</em>, **<em>Phys. Rev. Materials</em>**, vol. 3, number , pp. 063611, Jun 2019.  [online](https://link.aps.org/doi/10.1103/PhysRevMaterials.3.063611)\n",
    "\n",
    "[<a id=\"cit-Ulvestad2019\" href=\"#call-Ulvestad2019\">8</a>] Ulvestad A., Hruszkewycz S. O., Holt M. V., Hill M. O., Calvo-Almazan I., Maddali S., Huang X., Yan H., Nazaretski E., Chu Y. S., Lauhon L. J., Rodkey N., Bertoni M. I. and Stuckelberger M. E., <em>Multimodal X-ray imaging of grain-level properties and performance in a polycrystalline solar cell</em>, **<em>Journal of Synchrotron Radiation</em>**, vol. 26, number 4, pp. , Jul 2019.  [online](https://doi.org/10.1107/S1600577519003606)\n",
    "\n",
    "[<a id=\"cit-Maddali2019a\" href=\"#call-Maddali2019a\">9</a>] Maddali Siddharth, Park Jun-Sang, Sharma Hemant, Shastri Sarvjit, Kenesei Peter, Almer Jonathan, Harder Ross, J. Matthew, S. Youssef and O. Stephan, <em>High-energy coherent X-ray diffraction microscopy of polycrystal grains: first steps towards a multi-scale approach</em>, **<em>Phys. Rev. Applied</em>** (**in press**),  2020.  [online](http://arxiv.org/pdf/1903.11815v2)\n",
    "\n",
    "[<a id=\"cit-Calvo-Almazan2019a\" href=\"#call-Calvo-Almazan2019a\">10</a>] Calvo-Almazan I., Ulvestad A. P., Colegrove E., Ablekim T., Holt M. V., Hill M. O., Maddali S., Lauhon L. J., Bertoni M. I, Huang X., Yan H., Nazaretski E., Chu Y. S., Hruszkewycz S. O. and Stuckelberger M. E., <em>Strain Mapping of CdTe Grains in Photovoltaic Devices</em>, **<em>IEEE Journal of Photovoltaics</em>**, vol. , number , pp. 1-10,  2019.  [online](https://ieeexplore.ieee.org/document/8862942)\n",
    "\n",
    "[<a id=\"cit-Maddali2018\" href=\"#call-Maddali2018\">11</a>] Maddali S., Calvo-Almazan I., Almer J., Kenesei P., Park J.-S., Harder R., Nashed Y. and Hruszkewycz S. O., <em>Sparse recovery of undersampled intensity patterns for coherent diffraction imaging at high X-ray energies</em>, **<em>Scientific Reports</em>**, vol. 8, number 1, pp. 4959,  2018.  [online](https://www.nature.com/articles/s41598-018-23040-y)\n",
    "\n",
    "[<a id=\"cit-Hruszkewycz2018\" href=\"#call-Hruszkewycz2018\">12</a>] Hruszkewycz S. O., Maddali S., Anderson C. P., Cha W., Miao K. C., Highland M. J., Ulvestad A., Awschalom D. D. and Heremans F. J., <em>Strain annealing of SiC nanoparticles revealed through Bragg coherent diffraction imaging for quantum technologies</em>, **<em>Phys. Rev. Materials</em>**, vol. 2, number , pp. 086001, Aug 2018.  [online](https://link.aps.org/doi/10.1103/PhysRevMaterials.2.086001)\n",
    "\n",
    "[<a id=\"cit-Highland2017\" href=\"#call-Highland2017\">13</a>] Highland M. J., Hruszkewycz S. O., Fong D. D., Thompson C, Fuoss P. H., Calvo-Almazan I., Maddali S., Ulvestad A., Nazaretski E., Huang X., Yan H., Chu Y. S., Zhou H., Baldo P. M. and Eastman J. A., <em>In-situ synchrotron x-ray studies of the microstructure and stability of In2O3 epitaxial films</em>, **<em>Applied Physics Letters</em>**, vol. 111, number 16, pp. 161602,  2017.  [online](http://dx.doi.org/10.1063/1.4997773)\n",
    "\n",
    "[<a id=\"cit-Krishnamurthy2017\" href=\"#call-Krishnamurthy2017\">14</a>] N. Krishnamurthy, S. Maddali, V. Romanov and J. Hawk, <em>Predictive analysis of the influence of the chemical composition and pre-processing regimen on structural properties of steel alloys using machine learning techniques.</em>,  2017.  [online](https://meetings.aps.org/Meeting/MAR17/Session/V12.6)\n",
    "\n",
    "[<a id=\"cit-Krishnamurthy2017a\" href=\"#call-Krishnamurthy2017a\">15</a>] N. Krishnamurthy, S. Maddali, V. Romanov and J. Hawk, <em>Segmentation of 9Cr Steel Samples based on Composition and Mechanical Property.</em>,  2017.  [online](http://meetings.aps.org/link/BAPS.2017.MAR.G1.156)\n",
    "\n",
    "[<a id=\"cit-Krishnamurthy2017b\" href=\"#call-Krishnamurthy2017b\">16</a>] N. Krishnamurthy, S. Maddali, A. Verma, L. Bruckman, J. Carter, R. French, V. Romanov and J. Hawk, <em>Data analytics for alloy qualification</em>, <em>**National Energy technology Laboratory**</em>, number: NETL-PUB-21550,   2017.  [online](https://www.osti.gov/biblio/1456238)\n",
    "\n",
    "[<a id=\"cit-Maddali2016\" href=\"#call-Maddali2016\">17</a>] Maddali S., Ta'asan S. and M. R., <em>Topology-faithful nonparametric estimation and tracking of bulk interface networks</em>, **<em>Computational Materials Science</em>**, vol. 125, number , pp. 382--340,  2016.  [online](https://www.sciencedirect.com/science/article/pii/S0927025616303913)\n",
    "\n",
    "[<a id=\"cit-Renversade2016\" href=\"#call-Renversade2016\">18</a>] Renversade L., Quey R., Ludwig W., Menasche D., Maddali S., Suter R. M. and Borbely A., <em>Comparison between diffraction contrast tomography and high-energy diffraction microscopy on a slightly deformed aluminium alloy</em>, **<em>IUCrJ</em>**, vol. 3, number 1, pp. 32--42,  2016.  [online](https://journals.iucr.org/m/issues/2016/01/00/ti5006/)\n",
    "\n"
   ]
  }
 ],
 "metadata": {
  "kernelspec": {
   "display_name": "Python 3",
   "language": "python",
   "name": "python3"
  },
  "language_info": {
   "codemirror_mode": {
    "name": "ipython",
    "version": 3
   },
   "file_extension": ".py",
   "mimetype": "text/x-python",
   "name": "python",
   "nbconvert_exporter": "python",
   "pygments_lexer": "ipython3",
   "version": "3.8.2"
  },
  "latex_envs": {
   "LaTeX_envs_menu_present": true,
   "autoclose": false,
   "autocomplete": false,
   "bibliofile": "publication.bib",
   "cite_by": "number",
   "current_citInitial": 1,
   "eqLabelWithNumbers": true,
   "eqNumInitial": 1,
   "hotkeys": {
    "equation": "Ctrl-E",
    "itemize": "Ctrl-I"
   },
   "labels_anchors": false,
   "latex_user_defs": false,
   "report_style_numbering": false,
   "user_envs_cfg": false
  }
 },
 "nbformat": 4,
 "nbformat_minor": 4
}
